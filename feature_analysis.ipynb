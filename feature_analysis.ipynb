{
 "cells": [
  {
   "cell_type": "code",
   "execution_count": 1,
   "metadata": {},
   "outputs": [],
   "source": [
    "import numpy as np\n",
    "import pandas as pd\n",
    "import matplotlib.pyplot as plt\n",
    "import seaborn as sns"
   ]
  },
  {
   "cell_type": "code",
   "execution_count": 2,
   "metadata": {},
   "outputs": [],
   "source": [
    "filename = \"case_data.csv\"\n",
    "filepath = f\"data/{filename}\"\n",
    "\n",
    "data = pd.read_csv(filepath)\n",
    "df = data[:60]\n",
    "df = df.dropna(subset=['R.4', 'A.4', 'S.4'])"
   ]
  },
  {
   "cell_type": "code",
   "execution_count": 3,
   "metadata": {},
   "outputs": [
    {
     "data": {
      "text/plain": [
       "47"
      ]
     },
     "execution_count": 3,
     "metadata": {},
     "output_type": "execute_result"
    }
   ],
   "source": [
    "len(df)"
   ]
  },
  {
   "cell_type": "code",
   "execution_count": 4,
   "metadata": {},
   "outputs": [
    {
     "data": {
      "text/html": [
       "<div>\n",
       "<style scoped>\n",
       "    .dataframe tbody tr th:only-of-type {\n",
       "        vertical-align: middle;\n",
       "    }\n",
       "\n",
       "    .dataframe tbody tr th {\n",
       "        vertical-align: top;\n",
       "    }\n",
       "\n",
       "    .dataframe thead th {\n",
       "        text-align: right;\n",
       "    }\n",
       "</style>\n",
       "<table border=\"1\" class=\"dataframe\">\n",
       "  <thead>\n",
       "    <tr style=\"text-align: right;\">\n",
       "      <th></th>\n",
       "      <th>Case Number</th>\n",
       "      <th>Scan Type</th>\n",
       "      <th>Age</th>\n",
       "      <th>Gender</th>\n",
       "      <th>BMI</th>\n",
       "      <th>Image Size</th>\n",
       "      <th>Left Kidney</th>\n",
       "      <th>LR1</th>\n",
       "      <th>LR2</th>\n",
       "      <th>PA1</th>\n",
       "      <th>...</th>\n",
       "      <th>A.2</th>\n",
       "      <th>S.2</th>\n",
       "      <th>Most Anterior Point on Iliac Crest (Right)</th>\n",
       "      <th>R.3</th>\n",
       "      <th>A.3</th>\n",
       "      <th>S.3</th>\n",
       "      <th>Xyphoid Process</th>\n",
       "      <th>R.4</th>\n",
       "      <th>A.4</th>\n",
       "      <th>S.4</th>\n",
       "    </tr>\n",
       "  </thead>\n",
       "  <tbody>\n",
       "    <tr>\n",
       "      <th>0</th>\n",
       "      <td>case_00000</td>\n",
       "      <td>arterial</td>\n",
       "      <td>49</td>\n",
       "      <td>male</td>\n",
       "      <td>29.47</td>\n",
       "      <td>NaN</td>\n",
       "      <td>NaN</td>\n",
       "      <td>-104.98</td>\n",
       "      <td>-26.81</td>\n",
       "      <td>-109.71</td>\n",
       "      <td>...</td>\n",
       "      <td>8.642</td>\n",
       "      <td>-112.065</td>\n",
       "      <td>NaN</td>\n",
       "      <td>132.939</td>\n",
       "      <td>23.984</td>\n",
       "      <td>-116.837</td>\n",
       "      <td>NaN</td>\n",
       "      <td>-2.211</td>\n",
       "      <td>53.167</td>\n",
       "      <td>152.500</td>\n",
       "    </tr>\n",
       "    <tr>\n",
       "      <th>1</th>\n",
       "      <td>case_00001</td>\n",
       "      <td>late</td>\n",
       "      <td>50</td>\n",
       "      <td>male</td>\n",
       "      <td>33.71</td>\n",
       "      <td>NaN</td>\n",
       "      <td>NaN</td>\n",
       "      <td>-140.32</td>\n",
       "      <td>-54.13</td>\n",
       "      <td>-54.16</td>\n",
       "      <td>...</td>\n",
       "      <td>8.642</td>\n",
       "      <td>-131.844</td>\n",
       "      <td>NaN</td>\n",
       "      <td>132.939</td>\n",
       "      <td>16.920</td>\n",
       "      <td>-129.552</td>\n",
       "      <td>NaN</td>\n",
       "      <td>5.686</td>\n",
       "      <td>126.479</td>\n",
       "      <td>131.952</td>\n",
       "    </tr>\n",
       "    <tr>\n",
       "      <th>2</th>\n",
       "      <td>case_00002</td>\n",
       "      <td>late</td>\n",
       "      <td>74</td>\n",
       "      <td>male</td>\n",
       "      <td>28.13</td>\n",
       "      <td>512x512x261</td>\n",
       "      <td>NaN</td>\n",
       "      <td>-100.76</td>\n",
       "      <td>-14.57</td>\n",
       "      <td>-141.75</td>\n",
       "      <td>...</td>\n",
       "      <td>-43.905</td>\n",
       "      <td>-43.905</td>\n",
       "      <td>NaN</td>\n",
       "      <td>132.939</td>\n",
       "      <td>-38.321</td>\n",
       "      <td>-81.048</td>\n",
       "      <td>NaN</td>\n",
       "      <td>0.127</td>\n",
       "      <td>120.438</td>\n",
       "      <td>183.137</td>\n",
       "    </tr>\n",
       "    <tr>\n",
       "      <th>3</th>\n",
       "      <td>case_00003</td>\n",
       "      <td>arterial</td>\n",
       "      <td>44</td>\n",
       "      <td>female</td>\n",
       "      <td>38.69</td>\n",
       "      <td>NaN</td>\n",
       "      <td>NaN</td>\n",
       "      <td>-107.37</td>\n",
       "      <td>-32.23</td>\n",
       "      <td>-92.68</td>\n",
       "      <td>...</td>\n",
       "      <td>NaN</td>\n",
       "      <td>NaN</td>\n",
       "      <td>NaN</td>\n",
       "      <td>NaN</td>\n",
       "      <td>NaN</td>\n",
       "      <td>NaN</td>\n",
       "      <td>NaN</td>\n",
       "      <td>-10.406</td>\n",
       "      <td>60.701</td>\n",
       "      <td>125.215</td>\n",
       "    </tr>\n",
       "    <tr>\n",
       "      <th>4</th>\n",
       "      <td>case_00004</td>\n",
       "      <td>arterial</td>\n",
       "      <td>73</td>\n",
       "      <td>male</td>\n",
       "      <td>28.59</td>\n",
       "      <td>512x512x64</td>\n",
       "      <td>NaN</td>\n",
       "      <td>-132.58</td>\n",
       "      <td>-43.43</td>\n",
       "      <td>-82.88</td>\n",
       "      <td>...</td>\n",
       "      <td>NaN</td>\n",
       "      <td>NaN</td>\n",
       "      <td>NaN</td>\n",
       "      <td>NaN</td>\n",
       "      <td>NaN</td>\n",
       "      <td>NaN</td>\n",
       "      <td>NaN</td>\n",
       "      <td>-10.406</td>\n",
       "      <td>147.535</td>\n",
       "      <td>115.411</td>\n",
       "    </tr>\n",
       "  </tbody>\n",
       "</table>\n",
       "<p>5 rows × 40 columns</p>\n",
       "</div>"
      ],
      "text/plain": [
       "  Case Number Scan Type  Age   Gender    BMI   Image Size  Left Kidney  \\\n",
       "0  case_00000  arterial    49    male  29.47          NaN          NaN   \n",
       "1  case_00001      late    50    male  33.71          NaN          NaN   \n",
       "2  case_00002      late    74    male  28.13  512x512x261          NaN   \n",
       "3  case_00003  arterial    44  female  38.69          NaN          NaN   \n",
       "4  case_00004  arterial    73    male  28.59   512x512x64          NaN   \n",
       "\n",
       "      LR1    LR2     PA1  ...     A.2      S.2  \\\n",
       "0 -104.98 -26.81 -109.71  ...   8.642 -112.065   \n",
       "1 -140.32 -54.13  -54.16  ...   8.642 -131.844   \n",
       "2 -100.76 -14.57 -141.75  ... -43.905  -43.905   \n",
       "3 -107.37 -32.23  -92.68  ...     NaN      NaN   \n",
       "4 -132.58 -43.43  -82.88  ...     NaN      NaN   \n",
       "\n",
       "   Most Anterior Point on Iliac Crest (Right)      R.3     A.3      S.3  \\\n",
       "0                                         NaN  132.939  23.984 -116.837   \n",
       "1                                         NaN  132.939  16.920 -129.552   \n",
       "2                                         NaN  132.939 -38.321  -81.048   \n",
       "3                                         NaN      NaN     NaN      NaN   \n",
       "4                                         NaN      NaN     NaN      NaN   \n",
       "\n",
       "   Xyphoid Process     R.4      A.4      S.4  \n",
       "0              NaN  -2.211   53.167  152.500  \n",
       "1              NaN   5.686  126.479  131.952  \n",
       "2              NaN   0.127  120.438  183.137  \n",
       "3              NaN -10.406   60.701  125.215  \n",
       "4              NaN -10.406  147.535  115.411  \n",
       "\n",
       "[5 rows x 40 columns]"
      ]
     },
     "execution_count": 4,
     "metadata": {},
     "output_type": "execute_result"
    }
   ],
   "source": [
    "df.head()"
   ]
  },
  {
   "cell_type": "code",
   "execution_count": 5,
   "metadata": {},
   "outputs": [
    {
     "data": {
      "text/plain": [
       "Index(['Case Number', 'Scan Type', 'Age', 'Gender', 'BMI', 'Image Size',\n",
       "       'Left Kidney', 'LR1', 'LR2', 'PA1', 'PA2', 'IS1', 'IS2', 'Right Kidney',\n",
       "       'LR1.1', 'LR2.1', 'PA1.1', 'PA2.1', 'IS1.1', 'IS2.1',\n",
       "       'Center Point (Left)', 'R', 'A', 'S', 'Center Point (Right)', 'R.1',\n",
       "       'A.1', 'S.1', 'Most Anterior Point on Iliac Crest (Left)', 'R.2', 'A.2',\n",
       "       'S.2', 'Most Anterior Point on Iliac Crest (Right)', 'R.3', 'A.3',\n",
       "       'S.3', 'Xyphoid Process', 'R.4', 'A.4', 'S.4'],\n",
       "      dtype='object')"
      ]
     },
     "execution_count": 5,
     "metadata": {},
     "output_type": "execute_result"
    }
   ],
   "source": [
    "df.rename(columns={'Age ': 'Age'}, inplace=True)\n",
    "df.columns"
   ]
  },
  {
   "cell_type": "markdown",
   "metadata": {},
   "source": [
    "Origin: Illiac Crest Left"
   ]
  },
  {
   "cell_type": "code",
   "execution_count": 6,
   "metadata": {},
   "outputs": [
    {
     "name": "stdout",
     "output_type": "stream",
     "text": [
      "Processed DataFrame saved to ref_ILC.csv\n"
     ]
    }
   ],
   "source": [
    "# Columns to exclude from the calculation\n",
    "exclude_columns = [\n",
    "    'Case Number', 'Scan Type', 'Age', 'Gender', 'BMI', 'Image Size',\n",
    "    'Left Kidney', 'Right Kidney', 'Center Point (Left)',\n",
    "    'Most Anterior Point on Iliac Crest (Left)',\n",
    "    'Most Anterior Point on Iliac Crest (Right)', 'Xyphoid Process'\n",
    "]\n",
    "\n",
    "# Identify columns to process (exclude specified columns)\n",
    "columns_to_process = [col for col in df.columns if col not in exclude_columns]\n",
    "\n",
    "# Process the DataFrame\n",
    "df_processed = df.copy()\n",
    "\n",
    "# Loop through each row to apply the row-specific calculations\n",
    "for index, row in df.iterrows():\n",
    "    for col in columns_to_process:\n",
    "        if col.startswith('L') or col.startswith('R'):\n",
    "            df_processed.at[index, col] = row[col] - row['R.2']\n",
    "        elif col.startswith('P') or col.startswith('A'):\n",
    "            df_processed.at[index, col] = row[col] - row['A.2']\n",
    "        elif col.startswith('I') or col.startswith('S'):\n",
    "            df_processed.at[index, col] = row[col] - row['S.2']\n",
    "\n",
    "# Save the processed DataFrame to a CSV file\n",
    "output_file = 'ref_ILC.csv'\n",
    "df_processed.to_csv(output_file, index=False)\n",
    "\n",
    "print(f\"Processed DataFrame saved to {output_file}\")"
   ]
  },
  {
   "cell_type": "markdown",
   "metadata": {},
   "source": [
    "Origin: Illiac Crest"
   ]
  },
  {
   "cell_type": "code",
   "execution_count": 7,
   "metadata": {},
   "outputs": [
    {
     "name": "stdout",
     "output_type": "stream",
     "text": [
      "Processed DataFrame saved to ref_IRC.csv\n"
     ]
    }
   ],
   "source": [
    "# Columns to exclude from the calculation\n",
    "exclude_columns = [\n",
    "    'Case Number', 'Scan Type', 'Age', 'Gender', 'BMI', 'Image Size',\n",
    "    'Left Kidney', 'Right Kidney', 'Center Point (Left)',\n",
    "    'Most Anterior Point on Iliac Crest (Left)',\n",
    "    'Most Anterior Point on Iliac Crest (Right)', 'Xyphoid Process'\n",
    "]\n",
    "\n",
    "# Identify columns to process (exclude specified columns)\n",
    "columns_to_process = [col for col in df.columns if col not in exclude_columns]\n",
    "\n",
    "# Process the DataFrame\n",
    "df_processed = df.copy()\n",
    "\n",
    "# Loop through each row to apply the row-specific calculations\n",
    "for index, row in df.iterrows():\n",
    "    for col in columns_to_process:\n",
    "        if col.startswith('L') or col.startswith('R'):\n",
    "            df_processed.at[index, col] = row[col] - row['R.3']\n",
    "        elif col.startswith('P') or col.startswith('A'):\n",
    "            df_processed.at[index, col] = row[col] - row['A.3']\n",
    "        elif col.startswith('I') or col.startswith('S'):\n",
    "            df_processed.at[index, col] = row[col] - row['S.3']\n",
    "\n",
    "# Save the processed DataFrame to a CSV file\n",
    "output_file = 'ref_IRC.csv'\n",
    "df_processed.to_csv(output_file, index=False)\n",
    "\n",
    "print(f\"Processed DataFrame saved to {output_file}\")"
   ]
  },
  {
   "cell_type": "markdown",
   "metadata": {},
   "source": [
    "Origin: Xyphoid Process"
   ]
  },
  {
   "cell_type": "code",
   "execution_count": 8,
   "metadata": {},
   "outputs": [
    {
     "name": "stdout",
     "output_type": "stream",
     "text": [
      "Processed DataFrame saved to ref_X.csv\n"
     ]
    }
   ],
   "source": [
    "# Columns to exclude from the calculation\n",
    "exclude_columns = [\n",
    "    'Case Number', 'Scan Type', 'Age', 'Gender', 'BMI', 'Image Size',\n",
    "    'Left Kidney', 'Right Kidney', 'Center Point (Left)',\n",
    "    'Most Anterior Point on Iliac Crest (Left)',\n",
    "    'Most Anterior Point on Iliac Crest (Right)', 'Xyphoid Process'\n",
    "]\n",
    "\n",
    "# Identify columns to process (exclude specified columns)\n",
    "columns_to_process = [col for col in df.columns if col not in exclude_columns]\n",
    "\n",
    "# Process the DataFrame\n",
    "df_processed = df.copy()\n",
    "\n",
    "# Loop through each row to apply the row-specific calculations\n",
    "for index, row in df.iterrows():\n",
    "    for col in columns_to_process:\n",
    "        if col.startswith('L') or col.startswith('R'):\n",
    "            df_processed.at[index, col] = row[col] - row['R.4']\n",
    "        elif col.startswith('P') or col.startswith('A'):\n",
    "            df_processed.at[index, col] = row[col] - row['A.4']\n",
    "        elif col.startswith('I') or col.startswith('S'):\n",
    "            df_processed.at[index, col] = row[col] - row['S.4']\n",
    "\n",
    "# Display the processed DataFrame\n",
    "# Save the processed DataFrame to a CSV file\n",
    "output_file = 'ref_X.csv'\n",
    "df_processed.to_csv(output_file, index=False)\n",
    "\n",
    "print(f\"Processed DataFrame saved to {output_file}\")"
   ]
  }
 ],
 "metadata": {
  "kernelspec": {
   "display_name": "venv",
   "language": "python",
   "name": "python3"
  },
  "language_info": {
   "codemirror_mode": {
    "name": "ipython",
    "version": 3
   },
   "file_extension": ".py",
   "mimetype": "text/x-python",
   "name": "python",
   "nbconvert_exporter": "python",
   "pygments_lexer": "ipython3",
   "version": "3.11.5"
  }
 },
 "nbformat": 4,
 "nbformat_minor": 2
}
